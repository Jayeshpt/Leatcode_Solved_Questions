{
 "cells": [
  {
   "cell_type": "code",
   "execution_count": null,
   "id": "a5c505af-f5d5-4ae0-b1d5-9bafc08c55a4",
   "metadata": {},
   "outputs": [],
   "source": [
    "class Solution(object):\n",
    "    def createTargetArray(self, nums, index):\n",
    "        \"\"\"\n",
    "        :type nums: List[int]\n",
    "        :type index: List[int]\n",
    "        :rtype: List[int]\n",
    "        \"\"\"\n",
    "        tar = []\n",
    "\n",
    "        # Initialize the target array with zeros\n",
    "        for i in range(len(nums)):\n",
    "            tar.insert(index[i], nums[i])\n",
    "\n",
    "        return tar"
   ]
  }
 ],
 "metadata": {
  "kernelspec": {
   "display_name": "Python 3 (ipykernel)",
   "language": "python",
   "name": "python3"
  },
  "language_info": {
   "codemirror_mode": {
    "name": "ipython",
    "version": 3
   },
   "file_extension": ".py",
   "mimetype": "text/x-python",
   "name": "python",
   "nbconvert_exporter": "python",
   "pygments_lexer": "ipython3",
   "version": "3.9.16"
  }
 },
 "nbformat": 4,
 "nbformat_minor": 5
}
