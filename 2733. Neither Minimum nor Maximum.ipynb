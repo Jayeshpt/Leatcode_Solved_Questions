{
 "cells": [
  {
   "cell_type": "code",
   "execution_count": null,
   "id": "fbcb9944-e7b6-49d5-96ab-72fa8811196d",
   "metadata": {},
   "outputs": [],
   "source": [
    "class Solution(object):\n",
    "    def findNonMinOrMax(self, nums):\n",
    "        \"\"\"\n",
    "        :type nums: List[int]\n",
    "        :rtype: int\n",
    "        \"\"\"\n",
    "        if len(nums)<3:\n",
    "            return -1\n",
    "        else:\n",
    "            nums.sort()\n",
    "            return nums[1]"
   ]
  }
 ],
 "metadata": {
  "kernelspec": {
   "display_name": "Python 3 (ipykernel)",
   "language": "python",
   "name": "python3"
  },
  "language_info": {
   "codemirror_mode": {
    "name": "ipython",
    "version": 3
   },
   "file_extension": ".py",
   "mimetype": "text/x-python",
   "name": "python",
   "nbconvert_exporter": "python",
   "pygments_lexer": "ipython3",
   "version": "3.9.16"
  }
 },
 "nbformat": 4,
 "nbformat_minor": 5
}
