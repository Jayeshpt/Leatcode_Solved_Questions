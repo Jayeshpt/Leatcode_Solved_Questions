{
 "cells": [
  {
   "cell_type": "code",
   "execution_count": 6,
   "id": "f16b8596-8ac5-44fe-956c-28d3adc276af",
   "metadata": {
    "tags": []
   },
   "outputs": [
    {
     "name": "stdout",
     "output_type": "stream",
     "text": [
      "[2, 3, 1, 2, 3, 4]\n"
     ]
    }
   ],
   "source": [
    "arr = [11,33,4,11,33,55]\n",
    "arr2=[11,33,4,11,33,55]\n",
    "arr = list(set(arr))\n",
    "arr.sort()\n",
    "for i in range(len(arr)):\n",
    "    for j in range(len(arr2)):\n",
    "        if arr[i] == arr2[j]:\n",
    "            arr2[j]=i+1\n",
    "print (arr2)\n",
    "\n",
    "\n"
   ]
  },
  {
   "cell_type": "code",
   "execution_count": 9,
   "id": "6498f599-81a6-4fc9-9a00-bb8993dd4507",
   "metadata": {
    "tags": []
   },
   "outputs": [
    {
     "name": "stdout",
     "output_type": "stream",
     "text": [
      "{-49: 1, -48: 2, -36: 3, -31: 4, -11: 5, 2: 6, 15: 7, 22: 8, 24: 9, 26: 10, 37: 11}\n",
      "5\n"
     ]
    },
    {
     "data": {
      "text/plain": [
       "[6, 5, 9, 7, 10, 4, 2, 1, 8, 11, 3]"
      ]
     },
     "execution_count": 9,
     "metadata": {},
     "output_type": "execute_result"
    }
   ],
   "source": [
    "class Solution(object):\n",
    "    def arrayRankTransform(self, arr):\n",
    "        \"\"\"\n",
    "        :type arr: List[int]\n",
    "        :rtype: List[int]\n",
    "        \"\"\"\n",
    "        arr1 = list(set(arr))  # Create a new list with unique elements from arr\n",
    "        arr1.sort()\n",
    "        rank_dict = {val: i+1 for i, val in enumerate(arr1)}  # Create a dictionary to store ranks\n",
    "        print(rank_dict)\n",
    "        s=rank_dict[-11]\n",
    "        print(s)\n",
    "        result = [rank_dict[val] for val in arr]  # Get ranks for each element in arr\n",
    "        return result\n",
    "s = Solution()\n",
    "\n",
    "s.arrayRankTransform([2,-11,24,15,26,-31,-48,-49,22,37,-36])"
   ]
  },
  {
   "cell_type": "code",
   "execution_count": null,
   "id": "d64f40e9-7737-4b53-acbc-f54ce4bc2c0a",
   "metadata": {},
   "outputs": [],
   "source": []
  }
 ],
 "metadata": {
  "kernelspec": {
   "display_name": "Python 3 (ipykernel)",
   "language": "python",
   "name": "python3"
  },
  "language_info": {
   "codemirror_mode": {
    "name": "ipython",
    "version": 3
   },
   "file_extension": ".py",
   "mimetype": "text/x-python",
   "name": "python",
   "nbconvert_exporter": "python",
   "pygments_lexer": "ipython3",
   "version": "3.9.16"
  }
 },
 "nbformat": 4,
 "nbformat_minor": 5
}
