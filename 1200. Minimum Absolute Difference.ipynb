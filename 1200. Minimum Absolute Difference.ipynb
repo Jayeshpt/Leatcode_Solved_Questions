{
 "cells": [
  {
   "cell_type": "code",
   "execution_count": null,
   "id": "05f6ddb7-dcf2-4ac8-bd03-dd9d948832cd",
   "metadata": {},
   "outputs": [],
   "source": [
    "class Solution(object):\n",
    "    def minimumAbsDifference(self, arr):\n",
    "        \"\"\"\n",
    "        :type arr: List[int]\n",
    "        :rtype: List[List[int]]\n",
    "        \"\"\"\n",
    "        arr.sort()\n",
    "        min_diff = float('inf')\n",
    "        result = []\n",
    "        \n",
    "        for i in range(len(arr) - 1):\n",
    "            diff = arr[i+1] - arr[i]\n",
    "            \n",
    "            if diff < min_diff:\n",
    "                min_diff = diff\n",
    "                result = [[arr[i], arr[i+1]]]\n",
    "            elif diff == min_diff:\n",
    "                result.append([arr[i], arr[i+1]])\n",
    "\n",
    "        return result\n",
    "                \n",
    "\n",
    "        "
   ]
  }
 ],
 "metadata": {
  "kernelspec": {
   "display_name": "Python 3 (ipykernel)",
   "language": "python",
   "name": "python3"
  },
  "language_info": {
   "codemirror_mode": {
    "name": "ipython",
    "version": 3
   },
   "file_extension": ".py",
   "mimetype": "text/x-python",
   "name": "python",
   "nbconvert_exporter": "python",
   "pygments_lexer": "ipython3",
   "version": "3.9.16"
  }
 },
 "nbformat": 4,
 "nbformat_minor": 5
}
