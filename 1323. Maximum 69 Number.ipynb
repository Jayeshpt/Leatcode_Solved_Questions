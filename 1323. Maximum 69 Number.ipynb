{
 "cells": [
  {
   "cell_type": "code",
   "execution_count": 1,
   "id": "fdab7bb4-a46f-44b1-9ac2-47187ce9b099",
   "metadata": {
    "tags": []
   },
   "outputs": [
    {
     "data": {
      "text/plain": [
       "96"
      ]
     },
     "execution_count": 1,
     "metadata": {},
     "output_type": "execute_result"
    }
   ],
   "source": [
    "class Solution(object):\n",
    "    def maximum69Number (self, num):\n",
    "        \"\"\"\n",
    "        :type num: int\n",
    "        :rtype: int\n",
    "        \"\"\"\n",
    "        temp=num\n",
    "        s=(str(num))\n",
    "        for i in range(len(s)):\n",
    "            if s[i]==\"6\":\n",
    "                val=(int(s[:i]+\"9\"+s[i+1:]))\n",
    "            else:\n",
    "                val=(int(s[:i]+\"6\"+s[i+1:]))\n",
    "            temp=max(temp,val)\n",
    "        return temp\n",
    "        \n",
    "        \n",
    "s = Solution()\n",
    "\n",
    "s.maximum69Number(66)"
   ]
  },
  {
   "cell_type": "code",
   "execution_count": 6,
   "id": "7a0c946f-54d0-4274-8342-937822264ffe",
   "metadata": {
    "tags": []
   },
   "outputs": [
    {
     "name": "stdout",
     "output_type": "stream",
     "text": [
      "699\n"
     ]
    }
   ],
   "source": [
    "k = '999'\n",
    "\n",
    "print(k[:0]+\"6\"+k[0+1:])"
   ]
  },
  {
   "cell_type": "code",
   "execution_count": null,
   "id": "98eca6ac-8805-446e-a307-326f9f9f34b6",
   "metadata": {},
   "outputs": [],
   "source": []
  }
 ],
 "metadata": {
  "kernelspec": {
   "display_name": "Python 3 (ipykernel)",
   "language": "python",
   "name": "python3"
  },
  "language_info": {
   "codemirror_mode": {
    "name": "ipython",
    "version": 3
   },
   "file_extension": ".py",
   "mimetype": "text/x-python",
   "name": "python",
   "nbconvert_exporter": "python",
   "pygments_lexer": "ipython3",
   "version": "3.9.16"
  }
 },
 "nbformat": 4,
 "nbformat_minor": 5
}
