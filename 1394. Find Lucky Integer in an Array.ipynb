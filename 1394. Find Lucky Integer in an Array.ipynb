{
 "cells": [
  {
   "cell_type": "code",
   "execution_count": null,
   "id": "84aa4d35-31c6-4244-975e-db3dc5a85bd2",
   "metadata": {},
   "outputs": [],
   "source": [
    "class Solution(object):\n",
    "    def findLucky(self, arr):\n",
    "        \"\"\"\n",
    "        :type arr: List[int]\n",
    "        :rtype: int\n",
    "        \"\"\"\n",
    "        dic = {}\n",
    "        count = 0\n",
    "        # for i in arr:\n",
    "        #     if i not in dic.keys():\n",
    "        #         count=0\n",
    "        #         for j in arr:\n",
    "        #             if i == j :\n",
    "        #                 count +=1\n",
    "        #         dic[i]=count\n",
    "\n",
    "        for i in arr:\n",
    "            if i in dic:\n",
    "                dic[i]+=1\n",
    "            else:\n",
    "                dic[i]=1\n",
    "        a = {k:v for k,v in dic.items() if k==v}\n",
    "        if not a:\n",
    "            return -1\n",
    "        else:\n",
    "            return max(a)\n",
    "\n",
    "        \n"
   ]
  }
 ],
 "metadata": {
  "kernelspec": {
   "display_name": "Python 3 (ipykernel)",
   "language": "python",
   "name": "python3"
  },
  "language_info": {
   "codemirror_mode": {
    "name": "ipython",
    "version": 3
   },
   "file_extension": ".py",
   "mimetype": "text/x-python",
   "name": "python",
   "nbconvert_exporter": "python",
   "pygments_lexer": "ipython3",
   "version": "3.9.16"
  }
 },
 "nbformat": 4,
 "nbformat_minor": 5
}
