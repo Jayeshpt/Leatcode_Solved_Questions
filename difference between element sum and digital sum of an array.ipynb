{
 "cells": [
  {
   "cell_type": "code",
   "execution_count": null,
   "id": "76ba77c0-5f79-4df5-8f18-1c59b12ebbe3",
   "metadata": {},
   "outputs": [],
   "source": [
    "class Solution:\n",
    "    def differenceOfSum(self, nums: List[int]) -> int:\n",
    "        sum1 = sum(nums)\n",
    "        sum2 = 0\n",
    "        for i in nums:\n",
    "            for j in str(i):\n",
    "                sum2 += int(j)\n",
    "        return abs(sum1 - sum2)\n",
    "            \n",
    "            "
   ]
  }
 ],
 "metadata": {
  "kernelspec": {
   "display_name": "Python 3 (ipykernel)",
   "language": "python",
   "name": "python3"
  },
  "language_info": {
   "codemirror_mode": {
    "name": "ipython",
    "version": 3
   },
   "file_extension": ".py",
   "mimetype": "text/x-python",
   "name": "python",
   "nbconvert_exporter": "python",
   "pygments_lexer": "ipython3",
   "version": "3.9.16"
  }
 },
 "nbformat": 4,
 "nbformat_minor": 5
}
