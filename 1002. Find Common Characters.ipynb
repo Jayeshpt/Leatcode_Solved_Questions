{
 "cells": [
  {
   "cell_type": "code",
   "execution_count": null,
   "id": "02aaf54b-03c6-4e35-985b-656d53b8ea3f",
   "metadata": {},
   "outputs": [],
   "source": [
    "class Solution(object):\n",
    "    def commonChars(self, words):\n",
    "        \"\"\"\n",
    "        :type words: List[str]\n",
    "        :rtype: List[str]\n",
    "        \"\"\"\n",
    "    \n",
    "\n",
    "        common_chars = []\n",
    "        for ltr in words[0]:\n",
    "            found_in_all = True\n",
    "            for i in range(1, len(words)):\n",
    "                ltr_pos = words[i].find(ltr)\n",
    "                print(ltr_pos)\n",
    "                if ltr_pos == -1:\n",
    "                    found_in_all = False\n",
    "                    break\n",
    "                else:\n",
    "                    words[i] = words[i][:ltr_pos] + '0' + words[i][ltr_pos+1:]\n",
    "            if found_in_all:\n",
    "                common_chars.append(ltr)\n",
    "        return common_chars"
   ]
  }
 ],
 "metadata": {
  "kernelspec": {
   "display_name": "Python 3 (ipykernel)",
   "language": "python",
   "name": "python3"
  },
  "language_info": {
   "codemirror_mode": {
    "name": "ipython",
    "version": 3
   },
   "file_extension": ".py",
   "mimetype": "text/x-python",
   "name": "python",
   "nbconvert_exporter": "python",
   "pygments_lexer": "ipython3",
   "version": "3.9.16"
  }
 },
 "nbformat": 4,
 "nbformat_minor": 5
}
