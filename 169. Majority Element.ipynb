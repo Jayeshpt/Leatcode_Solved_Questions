{
 "cells": [
  {
   "cell_type": "code",
   "execution_count": null,
   "id": "6abfcc9a-c7cc-4b64-bacc-53197f193de9",
   "metadata": {},
   "outputs": [],
   "source": [
    "class Solution(object):\n",
    "    def majorityElement(self, nums):\n",
    "        \"\"\"\n",
    "        :type nums: List[int]\n",
    "        :rtype: int\n",
    "        \"\"\"\n",
    "        # fcandidate = None\n",
    "        # count = 0\n",
    "        \n",
    "        # for num in nums:\n",
    "        #     if count == 0:\n",
    "        #         candidate = num\n",
    "        #     if num == candidate:\n",
    "        #         count += 1\n",
    "        #     else:\n",
    "        #         count -= 1\n",
    "        \n",
    "        # return candidate\n",
    "        counts = {}\n",
    "        for num in nums:\n",
    "            if num in counts:\n",
    "                counts[num]+=1\n",
    "            else:\n",
    "                counts[num]=1\n",
    "\n",
    "        for num , count in counts.items():\n",
    "            if count > len(nums)//2:\n",
    "                return num "
   ]
  }
 ],
 "metadata": {
  "kernelspec": {
   "display_name": "Python 3 (ipykernel)",
   "language": "python",
   "name": "python3"
  },
  "language_info": {
   "codemirror_mode": {
    "name": "ipython",
    "version": 3
   },
   "file_extension": ".py",
   "mimetype": "text/x-python",
   "name": "python",
   "nbconvert_exporter": "python",
   "pygments_lexer": "ipython3",
   "version": "3.9.16"
  }
 },
 "nbformat": 4,
 "nbformat_minor": 5
}
