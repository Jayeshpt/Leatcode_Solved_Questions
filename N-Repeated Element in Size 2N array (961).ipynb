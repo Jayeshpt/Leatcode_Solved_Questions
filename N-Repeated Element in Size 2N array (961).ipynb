{
 "cells": [
  {
   "cell_type": "code",
   "execution_count": null,
   "id": "82a82a1d-671b-42ea-8420-893e6072f5eb",
   "metadata": {},
   "outputs": [],
   "source": [
    "class Solution:\n",
    "    def repeatedNTimes(self, nums: List[int]) -> int:\n",
    "        count=0\n",
    "        for i in range(len(nums)):\n",
    "            count = 0\n",
    "            for j in range(len(nums)):\n",
    "                if nums[i] == nums[j]:\n",
    "                    count +=1\n",
    "            if count > 1:\n",
    "                return nums[i]"
   ]
  }
 ],
 "metadata": {
  "kernelspec": {
   "display_name": "Python 3 (ipykernel)",
   "language": "python",
   "name": "python3"
  },
  "language_info": {
   "codemirror_mode": {
    "name": "ipython",
    "version": 3
   },
   "file_extension": ".py",
   "mimetype": "text/x-python",
   "name": "python",
   "nbconvert_exporter": "python",
   "pygments_lexer": "ipython3",
   "version": "3.9.16"
  }
 },
 "nbformat": 4,
 "nbformat_minor": 5
}
