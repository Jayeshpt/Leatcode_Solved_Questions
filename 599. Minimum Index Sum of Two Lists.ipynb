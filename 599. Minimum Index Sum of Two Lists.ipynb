{
 "cells": [
  {
   "cell_type": "code",
   "execution_count": null,
   "id": "db0a7a99-750a-4958-8bd6-0f235bc0cd13",
   "metadata": {},
   "outputs": [],
   "source": [
    "class Solution(object):\n",
    "    def findRestaurant(self, list1, list2):\n",
    "        \"\"\"\n",
    "        :type list1: List[str]\n",
    "        :type list2: List[str]\n",
    "        :rtype: List[str]\n",
    "        \"\"\"\n",
    "        my_dict = {}\n",
    "        for i in range(len(list1)):\n",
    "            for j in range(len(list2)):\n",
    "                if list1[i]==list2[j]:\n",
    "                    sum1 = i+j\n",
    "                    my_dict[list1[i]]=sum1\n",
    "        min_keys = [key for key, value in my_dict.items() if value == min(my_dict.values())]\n",
    "        return min_keys\n"
   ]
  }
 ],
 "metadata": {
  "kernelspec": {
   "display_name": "Python 3 (ipykernel)",
   "language": "python",
   "name": "python3"
  },
  "language_info": {
   "codemirror_mode": {
    "name": "ipython",
    "version": 3
   },
   "file_extension": ".py",
   "mimetype": "text/x-python",
   "name": "python",
   "nbconvert_exporter": "python",
   "pygments_lexer": "ipython3",
   "version": "3.9.16"
  }
 },
 "nbformat": 4,
 "nbformat_minor": 5
}
