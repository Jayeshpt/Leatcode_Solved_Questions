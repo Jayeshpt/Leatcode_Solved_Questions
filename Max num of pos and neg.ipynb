{
 "cells": [
  {
   "cell_type": "code",
   "execution_count": null,
   "id": "97cf6ce5-a656-400f-aaa7-853fd87a4c8f",
   "metadata": {},
   "outputs": [],
   "source": [
    "class Solution:\n",
    "    def maximumCount(self, nums: List[int]) -> int:\n",
    "        neg = 0\n",
    "        pos = 0\n",
    "        for i in nums:\n",
    "            if i < 0 :\n",
    "                pos +=1\n",
    "            if i > 0:\n",
    "                neg +=1\n",
    "        return max(pos,neg)"
   ]
  }
 ],
 "metadata": {
  "kernelspec": {
   "display_name": "Python 3 (ipykernel)",
   "language": "python",
   "name": "python3"
  },
  "language_info": {
   "codemirror_mode": {
    "name": "ipython",
    "version": 3
   },
   "file_extension": ".py",
   "mimetype": "text/x-python",
   "name": "python",
   "nbconvert_exporter": "python",
   "pygments_lexer": "ipython3",
   "version": "3.9.16"
  }
 },
 "nbformat": 4,
 "nbformat_minor": 5
}
