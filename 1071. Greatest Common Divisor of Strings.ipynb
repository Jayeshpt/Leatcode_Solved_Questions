{
 "cells": [
  {
   "cell_type": "code",
   "execution_count": 1,
   "id": "6ac29055-9523-41ca-a5f6-effebab1cdeb",
   "metadata": {
    "tags": []
   },
   "outputs": [
    {
     "name": "stdout",
     "output_type": "stream",
     "text": [
      "AB\n"
     ]
    }
   ],
   "source": [
    "str1 =\"ABABAB\"\n",
    "str2 =\"ABAB\"\n",
    "print(str1[len(str2):])"
   ]
  },
  {
   "cell_type": "code",
   "execution_count": 10,
   "id": "447fb502-5641-4133-84a9-3c4629df3b34",
   "metadata": {
    "tags": []
   },
   "outputs": [],
   "source": [
    "s='abcabc'\n",
    "t='abe'\n",
    "if s+t == t+s:\n",
    "    print('d')"
   ]
  },
  {
   "cell_type": "code",
   "execution_count": 11,
   "id": "72eaaf7c-e3a6-46ed-95d0-77cad76b2a51",
   "metadata": {
    "tags": []
   },
   "outputs": [
    {
     "name": "stdout",
     "output_type": "stream",
     "text": [
      "abcabcabe\n",
      "abeabcabc\n"
     ]
    }
   ],
   "source": [
    "print(s+t)\n",
    "print(t+s)"
   ]
  },
  {
   "cell_type": "code",
   "execution_count": null,
   "id": "318fd02f-8c6b-42cb-9069-b95928904f2f",
   "metadata": {},
   "outputs": [],
   "source": [
    "class Solution(object):\n",
    "    def gcdOfStrings(self, str1, str2):\n",
    "        \"\"\"\n",
    "        :type str1: str\n",
    "        :type str2: str\n",
    "        :rtype: str\n",
    "        \"\"\"\n",
    "        if str1 + str2 != str2 + str1:\n",
    "            return \"\"\n",
    "\n",
    "        if len(str1) < len(str2):\n",
    "            return self.gcdOfStrings(str1, str2[len(str1):])\n",
    "        elif len(str1) > len(str2):\n",
    "            return self.gcdOfStrings(str1[len(str2):], str2)\n",
    "        else:\n",
    "            return str1 "
   ]
  }
 ],
 "metadata": {
  "kernelspec": {
   "display_name": "Python 3 (ipykernel)",
   "language": "python",
   "name": "python3"
  },
  "language_info": {
   "codemirror_mode": {
    "name": "ipython",
    "version": 3
   },
   "file_extension": ".py",
   "mimetype": "text/x-python",
   "name": "python",
   "nbconvert_exporter": "python",
   "pygments_lexer": "ipython3",
   "version": "3.9.16"
  }
 },
 "nbformat": 4,
 "nbformat_minor": 5
}
