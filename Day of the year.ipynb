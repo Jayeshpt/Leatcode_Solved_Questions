{
 "cells": [
  {
   "cell_type": "code",
   "execution_count": null,
   "id": "22125c05-49d0-4783-9037-e15dfa286275",
   "metadata": {},
   "outputs": [],
   "source": [
    "class Solution(object):\n",
    "    def is_leap_year(self, year):\n",
    "        if year % 4 == 0 and (year % 100 != 0 or year % 400 == 0):\n",
    "            return True\n",
    "        else:\n",
    "            return False\n",
    "    \n",
    "    def dayOfYear(self, date):\n",
    "        year, month, day = map(int, date.split('-'))\n",
    "        \n",
    "        days_in_month = [0, 31, 28, 31, 30, 31, 30, 31, 31, 30, 31, 30, 31]\n",
    "        \n",
    "        # Adjust for leap year\n",
    "        if self.is_leap_year(year):\n",
    "            days_in_month[2] = 29\n",
    "        \n",
    "        day_of_year = 0\n",
    "        \n",
    "        for i in range(1, month):\n",
    "            day_of_year += days_in_month[i]\n",
    "        \n",
    "        day_of_year += day\n",
    "        \n",
    "        return day_of_year\n"
   ]
  }
 ],
 "metadata": {
  "kernelspec": {
   "display_name": "Python 3 (ipykernel)",
   "language": "python",
   "name": "python3"
  },
  "language_info": {
   "codemirror_mode": {
    "name": "ipython",
    "version": 3
   },
   "file_extension": ".py",
   "mimetype": "text/x-python",
   "name": "python",
   "nbconvert_exporter": "python",
   "pygments_lexer": "ipython3",
   "version": "3.9.16"
  }
 },
 "nbformat": 4,
 "nbformat_minor": 5
}
