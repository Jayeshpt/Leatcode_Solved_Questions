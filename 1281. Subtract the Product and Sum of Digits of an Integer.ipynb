{
 "cells": [
  {
   "cell_type": "code",
   "execution_count": 6,
   "id": "0037166a-a416-45be-84e7-a89a69424c4b",
   "metadata": {
    "tags": []
   },
   "outputs": [
    {
     "name": "stdout",
     "output_type": "stream",
     "text": [
      "1\n",
      "2\n",
      "3\n",
      "0\n"
     ]
    }
   ],
   "source": [
    "number = 123\n",
    "sum1 = 0\n",
    "prod = 1\n",
    "\n",
    "for d in str(number):\n",
    "    \n",
    "    digit = int(d)\n",
    "    print (digit)\n",
    "    \n",
    "    sum1 = sum1+ digit\n",
    "    prod =prod * digit\n",
    "\n",
    "result = prod - sum1\n",
    "print(result)\n"
   ]
  },
  {
   "cell_type": "code",
   "execution_count": 7,
   "id": "3466548d-51eb-4266-ad70-c5d02a3d15cd",
   "metadata": {
    "tags": []
   },
   "outputs": [],
   "source": [
    "coordinates = [[1,2],[2,3],[3,4],[4,5],[5,6],[6,7]]"
   ]
  },
  {
   "cell_type": "code",
   "execution_count": 14,
   "id": "169501d8-c614-4ca2-9bab-606ee0012496",
   "metadata": {
    "tags": []
   },
   "outputs": [
    {
     "name": "stdout",
     "output_type": "stream",
     "text": [
      "1\n"
     ]
    },
    {
     "ename": "SyntaxError",
     "evalue": "'return' outside function (2468324320.py, line 6)",
     "output_type": "error",
     "traceback": [
      "\u001b[1;36m  Cell \u001b[1;32mIn[14], line 6\u001b[1;36m\u001b[0m\n\u001b[1;33m    return false\u001b[0m\n\u001b[1;37m    ^\u001b[0m\n\u001b[1;31mSyntaxError\u001b[0m\u001b[1;31m:\u001b[0m 'return' outside function\n"
     ]
    }
   ],
   "source": [
    "k = coordinates[0]\n",
    "diff = k[1]-k[0]\n",
    "print(diff)\n",
    "for i in coordinates:\n",
    "    if i[1]-i[0] != diff:\n",
    "        return false\n",
    "    else:\n",
    "        count+=1\n",
    "if count== len(coordinates):\n",
    "    return True\n",
    "    "
   ]
  },
  {
   "cell_type": "code",
   "execution_count": null,
   "id": "3114d447-8d5e-407b-9ccc-fb3f3ad8d55b",
   "metadata": {},
   "outputs": [],
   "source": []
  }
 ],
 "metadata": {
  "kernelspec": {
   "display_name": "Python 3 (ipykernel)",
   "language": "python",
   "name": "python3"
  },
  "language_info": {
   "codemirror_mode": {
    "name": "ipython",
    "version": 3
   },
   "file_extension": ".py",
   "mimetype": "text/x-python",
   "name": "python",
   "nbconvert_exporter": "python",
   "pygments_lexer": "ipython3",
   "version": "3.9.16"
  }
 },
 "nbformat": 4,
 "nbformat_minor": 5
}
