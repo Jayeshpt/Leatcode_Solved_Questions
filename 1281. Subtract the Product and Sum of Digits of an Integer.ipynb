{
 "cells": [
  {
   "cell_type": "code",
   "execution_count": 6,
   "id": "0037166a-a416-45be-84e7-a89a69424c4b",
   "metadata": {
    "tags": []
   },
   "outputs": [
    {
     "name": "stdout",
     "output_type": "stream",
     "text": [
      "1\n",
      "2\n",
      "3\n",
      "0\n"
     ]
    }
   ],
   "source": [
    "number = 123\n",
    "sum1 = 0\n",
    "prod = 1\n",
    "\n",
    "for d in str(number):\n",
    "    \n",
    "    digit = int(d)\n",
    "    print (digit)\n",
    "    \n",
    "    sum1 = sum1+ digit\n",
    "    prod =prod * digit\n",
    "\n",
    "result = prod - sum1\n",
    "print(result)\n"
   ]
  },
  {
   "cell_type": "code",
   "execution_count": null,
   "id": "3466548d-51eb-4266-ad70-c5d02a3d15cd",
   "metadata": {},
   "outputs": [],
   "source": []
  }
 ],
 "metadata": {
  "kernelspec": {
   "display_name": "Python 3 (ipykernel)",
   "language": "python",
   "name": "python3"
  },
  "language_info": {
   "codemirror_mode": {
    "name": "ipython",
    "version": 3
   },
   "file_extension": ".py",
   "mimetype": "text/x-python",
   "name": "python",
   "nbconvert_exporter": "python",
   "pygments_lexer": "ipython3",
   "version": "3.9.16"
  }
 },
 "nbformat": 4,
 "nbformat_minor": 5
}
