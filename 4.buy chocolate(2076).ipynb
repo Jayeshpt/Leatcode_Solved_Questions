{
 "cells": [
  {
   "cell_type": "code",
   "execution_count": null,
   "id": "78ca1b57-51cc-4e08-8424-23ec11700729",
   "metadata": {},
   "outputs": [],
   "source": [
    "class Solution:\n",
    "    def buyChoco(self, prices: List[int], money: int) -> int:\n",
    "        prices.sort()\n",
    "        if prices[1] + prices[0] <= money:\n",
    "            return money - (prices[1] + prices[0])\n",
    "        return money"
   ]
  },
  {
   "cell_type": "code",
   "execution_count": 2,
   "id": "7492df90-8379-440f-949c-e70dd28e66a6",
   "metadata": {
    "tags": []
   },
   "outputs": [
    {
     "name": "stdout",
     "output_type": "stream",
     "text": [
      "1\n",
      "3\n"
     ]
    }
   ],
   "source": []
  },
  {
   "cell_type": "code",
   "execution_count": null,
   "id": "6c546ee9-e81e-492e-b509-e7e34ed56826",
   "metadata": {},
   "outputs": [],
   "source": []
  }
 ],
 "metadata": {
  "kernelspec": {
   "display_name": "Python 3 (ipykernel)",
   "language": "python",
   "name": "python3"
  },
  "language_info": {
   "codemirror_mode": {
    "name": "ipython",
    "version": 3
   },
   "file_extension": ".py",
   "mimetype": "text/x-python",
   "name": "python",
   "nbconvert_exporter": "python",
   "pygments_lexer": "ipython3",
   "version": "3.9.16"
  }
 },
 "nbformat": 4,
 "nbformat_minor": 5
}
