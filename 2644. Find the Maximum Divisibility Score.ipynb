{
 "cells": [
  {
   "cell_type": "code",
   "execution_count": null,
   "id": "5a5452b4-fe3e-4b8a-9479-946570550a6e",
   "metadata": {},
   "outputs": [],
   "source": [
    "class Solution(object):\n",
    "    def maxDivScore(self, nums, divisors):\n",
    "        \"\"\"\n",
    "        :type nums: List[int]\n",
    "        :type divisors: List[int]\n",
    "        :rtype: int\n",
    "        \"\"\"\n",
    "        maxi = 0\n",
    "        divi = []\n",
    "        max_count = 0  # Change variable name to avoid conflict with 'max' function\n",
    "        for i in range(len(divisors)):\n",
    "            count = 0  # Reset count for each divisor\n",
    "            for j in range(len(nums)):\n",
    "                if nums[j] % divisors[i] == 0:\n",
    "                    count += 1\n",
    "            if count >= max_count:\n",
    "                if count > max_count:\n",
    "                    divi = []  # Reset divi when finding a larger count\n",
    "                divi.append(divisors[i])\n",
    "                max_count = count\n",
    "\n",
    "        if max_count == 0:\n",
    "            return min(divisors)\n",
    "        else:\n",
    "            return min(divi)\n"
   ]
  }
 ],
 "metadata": {
  "kernelspec": {
   "display_name": "Python 3 (ipykernel)",
   "language": "python",
   "name": "python3"
  },
  "language_info": {
   "codemirror_mode": {
    "name": "ipython",
    "version": 3
   },
   "file_extension": ".py",
   "mimetype": "text/x-python",
   "name": "python",
   "nbconvert_exporter": "python",
   "pygments_lexer": "ipython3",
   "version": "3.9.16"
  }
 },
 "nbformat": 4,
 "nbformat_minor": 5
}
